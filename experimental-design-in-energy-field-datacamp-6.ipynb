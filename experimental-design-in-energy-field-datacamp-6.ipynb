{
 "cells": [
  {
   "cell_type": "code",
   "execution_count": 1,
   "id": "b073c63e",
   "metadata": {
    "_cell_guid": "b1076dfc-b9ad-4769-8c92-a6c4dae69d19",
    "_uuid": "8f2839f25d086af736a60e9eeb907d3b93b6e0e5",
    "execution": {
     "iopub.execute_input": "2025-02-26T18:53:42.091811Z",
     "iopub.status.busy": "2025-02-26T18:53:42.091473Z",
     "iopub.status.idle": "2025-02-26T18:53:42.950196Z",
     "shell.execute_reply": "2025-02-26T18:53:42.949027Z"
    },
    "papermill": {
     "duration": 0.864225,
     "end_time": "2025-02-26T18:53:42.951865",
     "exception": false,
     "start_time": "2025-02-26T18:53:42.087640",
     "status": "completed"
    },
    "tags": []
   },
   "outputs": [
    {
     "name": "stdout",
     "output_type": "stream",
     "text": [
      "/kaggle/input/energy-design-a/energy_design_a.csv\n",
      "/kaggle/input/energy-design-b/energy_design_b.csv\n"
     ]
    }
   ],
   "source": [
    "# This Python 3 environment comes with many helpful analytics libraries installed\n",
    "# It is defined by the kaggle/python Docker image: https://github.com/kaggle/docker-python\n",
    "# For example, here's several helpful packages to load\n",
    "\n",
    "import numpy as np # linear algebra\n",
    "import pandas as pd # data processing, CSV file I/O (e.g. pd.read_csv)\n",
    "\n",
    "# Input data files are available in the read-only \"../input/\" directory\n",
    "# For example, running this (by clicking run or pressing Shift+Enter) will list all files under the input directory\n",
    "\n",
    "import os\n",
    "for dirname, _, filenames in os.walk('/kaggle/input'):\n",
    "    for filename in filenames:\n",
    "        print(os.path.join(dirname, filename))\n",
    "\n",
    "# You can write up to 20GB to the current directory (/kaggle/working/) that gets preserved as output when you create a version using \"Save & Run All\" \n",
    "# You can also write temporary files to /kaggle/temp/, but they won't be saved outside of the current session"
   ]
  },
  {
   "cell_type": "code",
   "execution_count": 2,
   "id": "b32c0e8c",
   "metadata": {
    "execution": {
     "iopub.execute_input": "2025-02-26T18:53:42.961919Z",
     "iopub.status.busy": "2025-02-26T18:53:42.961434Z",
     "iopub.status.idle": "2025-02-26T18:53:44.502873Z",
     "shell.execute_reply": "2025-02-26T18:53:44.501756Z"
    },
    "papermill": {
     "duration": 1.546941,
     "end_time": "2025-02-26T18:53:44.505091",
     "exception": false,
     "start_time": "2025-02-26T18:53:42.958150",
     "status": "completed"
    },
    "tags": []
   },
   "outputs": [],
   "source": [
    "# Import required libraries\n",
    "import pandas as pd\n",
    "import seaborn as sns\n",
    "import numpy as np\n",
    "import matplotlib.pyplot as plt\n",
    "from scipy.stats import f_oneway, ttest_ind\n",
    "from statsmodels.sandbox.stats.multicomp import multipletests\n",
    "\n",
    "# Load datasets\n",
    "energy_design_a = pd.read_csv(\"/kaggle/input/energy-design-a/energy_design_a.csv\")\n",
    "energy_design_b = pd.read_csv(\"/kaggle/input/energy-design-b/energy_design_b.csv\")"
   ]
  },
  {
   "cell_type": "code",
   "execution_count": 3,
   "id": "a5ab6050",
   "metadata": {
    "execution": {
     "iopub.execute_input": "2025-02-26T18:53:44.510682Z",
     "iopub.status.busy": "2025-02-26T18:53:44.510386Z",
     "iopub.status.idle": "2025-02-26T18:53:44.530961Z",
     "shell.execute_reply": "2025-02-26T18:53:44.530151Z"
    },
    "papermill": {
     "duration": 0.024908,
     "end_time": "2025-02-26T18:53:44.532541",
     "exception": false,
     "start_time": "2025-02-26T18:53:44.507633",
     "status": "completed"
    },
    "tags": []
   },
   "outputs": [
    {
     "data": {
      "text/html": [
       "<div>\n",
       "<style scoped>\n",
       "    .dataframe tbody tr th:only-of-type {\n",
       "        vertical-align: middle;\n",
       "    }\n",
       "\n",
       "    .dataframe tbody tr th {\n",
       "        vertical-align: top;\n",
       "    }\n",
       "\n",
       "    .dataframe thead th {\n",
       "        text-align: right;\n",
       "    }\n",
       "</style>\n",
       "<table border=\"1\" class=\"dataframe\">\n",
       "  <thead>\n",
       "    <tr style=\"text-align: right;\">\n",
       "      <th></th>\n",
       "      <th>Fuel_Source</th>\n",
       "      <th>Building_Type</th>\n",
       "      <th>Energy_Usage</th>\n",
       "    </tr>\n",
       "  </thead>\n",
       "  <tbody>\n",
       "    <tr>\n",
       "      <th>0</th>\n",
       "      <td>Natural_Gas</td>\n",
       "      <td>Residential</td>\n",
       "      <td>576.997736</td>\n",
       "    </tr>\n",
       "    <tr>\n",
       "      <th>1</th>\n",
       "      <td>Biofuel</td>\n",
       "      <td>Commercial</td>\n",
       "      <td>626.838952</td>\n",
       "    </tr>\n",
       "    <tr>\n",
       "      <th>2</th>\n",
       "      <td>Natural_Gas</td>\n",
       "      <td>Commercial</td>\n",
       "      <td>542.448624</td>\n",
       "    </tr>\n",
       "    <tr>\n",
       "      <th>3</th>\n",
       "      <td>Natural_Gas</td>\n",
       "      <td>Residential</td>\n",
       "      <td>594.053558</td>\n",
       "    </tr>\n",
       "    <tr>\n",
       "      <th>4</th>\n",
       "      <td>Natural_Gas</td>\n",
       "      <td>Commercial</td>\n",
       "      <td>413.235891</td>\n",
       "    </tr>\n",
       "  </tbody>\n",
       "</table>\n",
       "</div>"
      ],
      "text/plain": [
       "   Fuel_Source Building_Type  Energy_Usage\n",
       "0  Natural_Gas   Residential    576.997736\n",
       "1      Biofuel    Commercial    626.838952\n",
       "2  Natural_Gas    Commercial    542.448624\n",
       "3  Natural_Gas   Residential    594.053558\n",
       "4  Natural_Gas    Commercial    413.235891"
      ]
     },
     "execution_count": 3,
     "metadata": {},
     "output_type": "execute_result"
    }
   ],
   "source": [
    "# identifying the experimental design\n",
    "energy_design_a.head()"
   ]
  },
  {
   "cell_type": "code",
   "execution_count": 4,
   "id": "385ae52b",
   "metadata": {
    "execution": {
     "iopub.execute_input": "2025-02-26T18:53:44.539155Z",
     "iopub.status.busy": "2025-02-26T18:53:44.538869Z",
     "iopub.status.idle": "2025-02-26T18:53:44.546480Z",
     "shell.execute_reply": "2025-02-26T18:53:44.545622Z"
    },
    "papermill": {
     "duration": 0.012286,
     "end_time": "2025-02-26T18:53:44.547759",
     "exception": false,
     "start_time": "2025-02-26T18:53:44.535473",
     "status": "completed"
    },
    "tags": []
   },
   "outputs": [
    {
     "data": {
      "text/html": [
       "<div>\n",
       "<style scoped>\n",
       "    .dataframe tbody tr th:only-of-type {\n",
       "        vertical-align: middle;\n",
       "    }\n",
       "\n",
       "    .dataframe tbody tr th {\n",
       "        vertical-align: top;\n",
       "    }\n",
       "\n",
       "    .dataframe thead th {\n",
       "        text-align: right;\n",
       "    }\n",
       "</style>\n",
       "<table border=\"1\" class=\"dataframe\">\n",
       "  <thead>\n",
       "    <tr style=\"text-align: right;\">\n",
       "      <th></th>\n",
       "      <th>Geographical_Region</th>\n",
       "      <th>Fuel_Source</th>\n",
       "      <th>CO2_Emissions</th>\n",
       "    </tr>\n",
       "  </thead>\n",
       "  <tbody>\n",
       "    <tr>\n",
       "      <th>0</th>\n",
       "      <td>North</td>\n",
       "      <td>Natural_Gas</td>\n",
       "      <td>11.490142</td>\n",
       "    </tr>\n",
       "    <tr>\n",
       "      <th>1</th>\n",
       "      <td>North</td>\n",
       "      <td>Natural_Gas</td>\n",
       "      <td>9.585207</td>\n",
       "    </tr>\n",
       "    <tr>\n",
       "      <th>2</th>\n",
       "      <td>North</td>\n",
       "      <td>Natural_Gas</td>\n",
       "      <td>11.943066</td>\n",
       "    </tr>\n",
       "    <tr>\n",
       "      <th>3</th>\n",
       "      <td>North</td>\n",
       "      <td>Natural_Gas</td>\n",
       "      <td>14.569090</td>\n",
       "    </tr>\n",
       "    <tr>\n",
       "      <th>4</th>\n",
       "      <td>North</td>\n",
       "      <td>Natural_Gas</td>\n",
       "      <td>9.297540</td>\n",
       "    </tr>\n",
       "  </tbody>\n",
       "</table>\n",
       "</div>"
      ],
      "text/plain": [
       "  Geographical_Region  Fuel_Source  CO2_Emissions\n",
       "0               North  Natural_Gas      11.490142\n",
       "1               North  Natural_Gas       9.585207\n",
       "2               North  Natural_Gas      11.943066\n",
       "3               North  Natural_Gas      14.569090\n",
       "4               North  Natural_Gas       9.297540"
      ]
     },
     "execution_count": 4,
     "metadata": {},
     "output_type": "execute_result"
    }
   ],
   "source": [
    "energy_design_b.head()"
   ]
  },
  {
   "cell_type": "code",
   "execution_count": 5,
   "id": "8e21e6b0",
   "metadata": {
    "execution": {
     "iopub.execute_input": "2025-02-26T18:53:44.553428Z",
     "iopub.status.busy": "2025-02-26T18:53:44.553165Z",
     "iopub.status.idle": "2025-02-26T18:53:44.556813Z",
     "shell.execute_reply": "2025-02-26T18:53:44.555807Z"
    },
    "papermill": {
     "duration": 0.007498,
     "end_time": "2025-02-26T18:53:44.557872",
     "exception": false,
     "start_time": "2025-02-26T18:53:44.550374",
     "status": "completed"
    },
    "tags": []
   },
   "outputs": [],
   "source": [
    "design = \"randomized_block\"\n",
    "data = energy_design_b "
   ]
  },
  {
   "cell_type": "code",
   "execution_count": 6,
   "id": "b04ca9a3",
   "metadata": {
    "execution": {
     "iopub.execute_input": "2025-02-26T18:53:44.562934Z",
     "iopub.status.busy": "2025-02-26T18:53:44.562669Z",
     "iopub.status.idle": "2025-02-26T18:53:44.877970Z",
     "shell.execute_reply": "2025-02-26T18:53:44.877018Z"
    },
    "papermill": {
     "duration": 0.319225,
     "end_time": "2025-02-26T18:53:44.879257",
     "exception": false,
     "start_time": "2025-02-26T18:53:44.560032",
     "status": "completed"
    },
    "tags": []
   },
   "outputs": [
    {
     "data": {
      "text/plain": [
       "<Axes: xlabel='CO2_Emissions', ylabel='Geographical_Region'>"
      ]
     },
     "execution_count": 6,
     "metadata": {},
     "output_type": "execute_result"
    },
    {
     "data": {
      "image/png": "[encoded data removed]",
      "text/plain": [
       "<Figure size 640x480 with 1 Axes>"
      ]
     },
     "metadata": {},
     "output_type": "display_data"
    }
   ],
   "source": [
    "# creating a boxplot\n",
    "sns.boxplot(x = 'CO2_Emissions', y = 'Geographical_Region',hue = 'Fuel_Source', data = data)"
   ]
  },
  {
   "cell_type": "code",
   "execution_count": 7,
   "id": "2f258704",
   "metadata": {
    "execution": {
     "iopub.execute_input": "2025-02-26T18:53:44.886073Z",
     "iopub.status.busy": "2025-02-26T18:53:44.885766Z",
     "iopub.status.idle": "2025-02-26T18:53:44.893322Z",
     "shell.execute_reply": "2025-02-26T18:53:44.892366Z"
    },
    "papermill": {
     "duration": 0.012751,
     "end_time": "2025-02-26T18:53:44.895003",
     "exception": false,
     "start_time": "2025-02-26T18:53:44.882252",
     "status": "completed"
    },
    "tags": []
   },
   "outputs": [],
   "source": [
    "# combination of region and fuel source with highest median CO2 emissions\n",
    "highest_co2 = data.nlargest(1, 'CO2_Emissions')\n",
    "highest_co2_region = 'South'\n",
    "highest_co2_source = 'Coal'"
   ]
  },
  {
   "cell_type": "code",
   "execution_count": 8,
   "id": "551a4018",
   "metadata": {
    "execution": {
     "iopub.execute_input": "2025-02-26T18:53:44.902539Z",
     "iopub.status.busy": "2025-02-26T18:53:44.902186Z",
     "iopub.status.idle": "2025-02-26T18:53:44.918161Z",
     "shell.execute_reply": "2025-02-26T18:53:44.916956Z"
    },
    "papermill": {
     "duration": 0.021409,
     "end_time": "2025-02-26T18:53:44.919800",
     "exception": false,
     "start_time": "2025-02-26T18:53:44.898391",
     "status": "completed"
    },
    "tags": []
   },
   "outputs": [
    {
     "name": "stdout",
     "output_type": "stream",
     "text": [
      "test results: Geographical_Region\n",
      "East        (50.4975764792117, 7.046450528767474e-08)\n",
      "North    (45.722317645356284, 1.4439335761931932e-07)\n",
      "South     (15.29098339477534, 0.00015869217797857807)\n",
      "West     (12.949717442117826, 0.00038280488933885705)\n",
      "dtype: object\n"
     ]
    },
    {
     "name": "stderr",
     "output_type": "stream",
     "text": [
      "<ipython-input-8-419fa749649b>:3: DeprecationWarning: DataFrameGroupBy.apply operated on the grouping columns. This behavior is deprecated, and in a future version of pandas the grouping columns will be excluded from the operation. Either pass `include_groups=False` to exclude the groupings or explicitly select the grouping columns after groupby to silence this warning.\n",
      "  test_results = data.groupby('Geographical_Region').apply(\n"
     ]
    }
   ],
   "source": [
    "# effect of fuel source and region on CO2 emissions\n",
    "# the main goal of this code is to apply the one-way ANOVA test (f_oneway()) within each geographical region to see if the CO₂ emissions differ significantly across different fuel sources.\n",
    "test_results = data.groupby('Geographical_Region').apply(\n",
    "    lambda x: f_oneway(\n",
    "        x[x['Fuel_Source'] == 'Natural_Gas']['CO2_Emissions'],\n",
    "        x[x['Fuel_Source'] == 'Biofuel']['CO2_Emissions'],\n",
    "        x[x['Fuel_Source'] == 'Coal']['CO2_Emissions']\n",
    "    )\n",
    ")\n",
    "# these three groups are passed into f_oneway(), which performs an ANOVA test to check if the mean CO₂ emissions differ significantly between them.\n",
    "print('test results:', test_results)"
   ]
  },
  {
   "cell_type": "code",
   "execution_count": 9,
   "id": "9e84df2a",
   "metadata": {
    "execution": {
     "iopub.execute_input": "2025-02-26T18:53:44.926908Z",
     "iopub.status.busy": "2025-02-26T18:53:44.926637Z",
     "iopub.status.idle": "2025-02-26T18:53:44.959576Z",
     "shell.execute_reply": "2025-02-26T18:53:44.958738Z"
    },
    "papermill": {
     "duration": 0.038107,
     "end_time": "2025-02-26T18:53:44.961252",
     "exception": false,
     "start_time": "2025-02-26T18:53:44.923145",
     "status": "completed"
    },
    "tags": []
   },
   "outputs": [
    {
     "name": "stdout",
     "output_type": "stream",
     "text": [
      "Bonferroni Corrected P-values: [2.97842303e-03 1.60405848e-05 1.51381089e-03 1.95958890e-02\n",
      " 1.04206412e-02 3.71506293e-01 1.17998627e-03 6.31245443e-05\n",
      " 6.41264547e-04 2.69611996e-02 4.30884019e-03 1.00000000e+00]\n"
     ]
    }
   ],
   "source": [
    "# p_value < 0.05\n",
    "if any(result.pvalue <0.05 for result in test_results):\n",
    "    bonferroni_p_values = []\n",
    "    \n",
    "# pairwise comparisons for bonferroni correction\n",
    "for zone in ['North', 'South', 'East', 'West']:\n",
    "    fuels = ['Natural_Gas', 'Biofuel', 'Coal']\n",
    "    comparisons = [(fuels[i], fuels[j]) for i in range(len(fuels)) for j in range(i+1, len(fuels))]\n",
    "    \n",
    "    for fuel1, fuel2 in comparisons:\n",
    "        group1 = data[(data['Geographical_Region'] == zone) & (data['Fuel_Source'] == fuel1)]['CO2_Emissions']\n",
    "        group2 = data[(data['Geographical_Region'] == zone) & (data['Fuel_Source'] == fuel2)]['CO2_Emissions']\n",
    "        _, p_val = ttest_ind(group1, group2)\n",
    "        bonferroni_p_values.append(p_val)\n",
    "\n",
    "    # Apply Bonferroni correction for multiple comparisons\n",
    "    diff_results = multipletests(bonferroni_p_values, alpha=0.05, method='bonferroni')\n",
    "\n",
    "print(\"Bonferroni Corrected P-values:\", diff_results[1])"
   ]
  },
  {
   "cell_type": "code",
   "execution_count": null,
   "id": "55bbb0a4",
   "metadata": {
    "papermill": {
     "duration": 0.002827,
     "end_time": "2025-02-26T18:53:44.967465",
     "exception": false,
     "start_time": "2025-02-26T18:53:44.964638",
     "status": "completed"
    },
    "tags": []
   },
   "outputs": [],
   "source": []
  }
 ],
 "metadata": {
  "kaggle": {
   "accelerator": "none",
   "dataSources": [
    {
     "datasetId": 6748757,
     "sourceId": 10863486,
     "sourceType": "datasetVersion"
    },
    {
     "datasetId": 6748764,
     "sourceId": 10863496,
     "sourceType": "datasetVersion"
    }
   ],
   "dockerImageVersionId": 30918,
   "isGpuEnabled": false,
   "isInternetEnabled": true,
   "language": "python",
   "sourceType": "notebook"
  },
  "kernelspec": {
   "display_name": "Python 3",
   "language": "python",
   "name": "python3"
  },
  "language_info": {
   "codemirror_mode": {
    "name": "ipython",
    "version": 3
   },
   "file_extension": ".py",
   "mimetype": "text/x-python",
   "name": "python",
   "nbconvert_exporter": "python",
   "pygments_lexer": "ipython3",
   "version": "3.10.12"
  },
  "papermill": {
   "default_parameters": {},
   "duration": 5.527448,
   "end_time": "2025-02-26T18:53:45.589634",
   "environment_variables": {},
   "exception": null,
   "input_path": "__notebook__.ipynb",
   "output_path": "__notebook__.ipynb",
   "parameters": {},
   "start_time": "2025-02-26T18:53:40.062186",
   "version": "2.6.0"
  }
 },
 "nbformat": 4,
 "nbformat_minor": 5
}
