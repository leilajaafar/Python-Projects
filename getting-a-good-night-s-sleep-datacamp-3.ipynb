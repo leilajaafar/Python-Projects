{
 "cells": [
  {
   "cell_type": "code",
   "execution_count": 1,
   "id": "57afc913",
   "metadata": {
    "_cell_guid": "b1076dfc-b9ad-4769-8c92-a6c4dae69d19",
    "_uuid": "8f2839f25d086af736a60e9eeb907d3b93b6e0e5",
    "execution": {
     "iopub.execute_input": "2025-02-16T17:11:02.641330Z",
     "iopub.status.busy": "2025-02-16T17:11:02.640919Z",
     "iopub.status.idle": "2025-02-16T17:11:03.515390Z",
     "shell.execute_reply": "2025-02-16T17:11:03.514006Z"
    },
    "papermill": {
     "duration": 0.88159,
     "end_time": "2025-02-16T17:11:03.517333",
     "exception": false,
     "start_time": "2025-02-16T17:11:02.635743",
     "status": "completed"
    },
    "tags": []
   },
   "outputs": [
    {
     "name": "stdout",
     "output_type": "stream",
     "text": [
      "/kaggle/input/getting-a-good-nights-sleep/sleep_health_data.csv\n"
     ]
    }
   ],
   "source": [
    "# This Python 3 environment comes with many helpful analytics libraries installed\n",
    "# It is defined by the kaggle/python Docker image: https://github.com/kaggle/docker-python\n",
    "# For example, here's several helpful packages to load\n",
    "\n",
    "import numpy as np # linear algebra\n",
    "import pandas as pd # data processing, CSV file I/O (e.g. pd.read_csv)\n",
    "\n",
    "# Input data files are available in the read-only \"../input/\" directory\n",
    "# For example, running this (by clicking run or pressing Shift+Enter) will list all files under the input directory\n",
    "\n",
    "import os\n",
    "for dirname, _, filenames in os.walk('/kaggle/input'):\n",
    "    for filename in filenames:\n",
    "        print(os.path.join(dirname, filename))\n",
    "\n",
    "# You can write up to 20GB to the current directory (/kaggle/working/) that gets preserved as output when you create a version using \"Save & Run All\" \n",
    "# You can also write temporary files to /kaggle/temp/, but they won't be saved outside of the current session"
   ]
  },
  {
   "cell_type": "code",
   "execution_count": 2,
   "id": "f797859b",
   "metadata": {
    "execution": {
     "iopub.execute_input": "2025-02-16T17:11:03.525315Z",
     "iopub.status.busy": "2025-02-16T17:11:03.524784Z",
     "iopub.status.idle": "2025-02-16T17:11:03.577508Z",
     "shell.execute_reply": "2025-02-16T17:11:03.576519Z"
    },
    "papermill": {
     "duration": 0.058299,
     "end_time": "2025-02-16T17:11:03.579083",
     "exception": false,
     "start_time": "2025-02-16T17:11:03.520784",
     "status": "completed"
    },
    "tags": []
   },
   "outputs": [
    {
     "data": {
      "text/html": [
       "<div>\n",
       "<style scoped>\n",
       "    .dataframe tbody tr th:only-of-type {\n",
       "        vertical-align: middle;\n",
       "    }\n",
       "\n",
       "    .dataframe tbody tr th {\n",
       "        vertical-align: top;\n",
       "    }\n",
       "\n",
       "    .dataframe thead th {\n",
       "        text-align: right;\n",
       "    }\n",
       "</style>\n",
       "<table border=\"1\" class=\"dataframe\">\n",
       "  <thead>\n",
       "    <tr style=\"text-align: right;\">\n",
       "      <th></th>\n",
       "      <th>Person ID</th>\n",
       "      <th>Gender</th>\n",
       "      <th>Age</th>\n",
       "      <th>Occupation</th>\n",
       "      <th>Sleep Duration</th>\n",
       "      <th>Quality of Sleep</th>\n",
       "      <th>Physical Activity Level</th>\n",
       "      <th>Stress Level</th>\n",
       "      <th>BMI Category</th>\n",
       "      <th>Blood Pressure</th>\n",
       "      <th>Heart Rate</th>\n",
       "      <th>Daily Steps</th>\n",
       "      <th>Sleep Disorder</th>\n",
       "    </tr>\n",
       "  </thead>\n",
       "  <tbody>\n",
       "    <tr>\n",
       "      <th>0</th>\n",
       "      <td>1</td>\n",
       "      <td>Male</td>\n",
       "      <td>27</td>\n",
       "      <td>Software Engineer</td>\n",
       "      <td>6.1</td>\n",
       "      <td>6</td>\n",
       "      <td>42</td>\n",
       "      <td>6</td>\n",
       "      <td>Overweight</td>\n",
       "      <td>126/83</td>\n",
       "      <td>77</td>\n",
       "      <td>4200</td>\n",
       "      <td>NaN</td>\n",
       "    </tr>\n",
       "    <tr>\n",
       "      <th>1</th>\n",
       "      <td>2</td>\n",
       "      <td>Male</td>\n",
       "      <td>28</td>\n",
       "      <td>Doctor</td>\n",
       "      <td>6.2</td>\n",
       "      <td>6</td>\n",
       "      <td>60</td>\n",
       "      <td>8</td>\n",
       "      <td>Normal</td>\n",
       "      <td>125/80</td>\n",
       "      <td>75</td>\n",
       "      <td>10000</td>\n",
       "      <td>NaN</td>\n",
       "    </tr>\n",
       "    <tr>\n",
       "      <th>2</th>\n",
       "      <td>3</td>\n",
       "      <td>Male</td>\n",
       "      <td>28</td>\n",
       "      <td>Doctor</td>\n",
       "      <td>6.2</td>\n",
       "      <td>6</td>\n",
       "      <td>60</td>\n",
       "      <td>8</td>\n",
       "      <td>Normal</td>\n",
       "      <td>125/80</td>\n",
       "      <td>75</td>\n",
       "      <td>10000</td>\n",
       "      <td>NaN</td>\n",
       "    </tr>\n",
       "    <tr>\n",
       "      <th>3</th>\n",
       "      <td>4</td>\n",
       "      <td>Male</td>\n",
       "      <td>28</td>\n",
       "      <td>Sales Representative</td>\n",
       "      <td>5.9</td>\n",
       "      <td>4</td>\n",
       "      <td>30</td>\n",
       "      <td>8</td>\n",
       "      <td>Obese</td>\n",
       "      <td>140/90</td>\n",
       "      <td>85</td>\n",
       "      <td>3000</td>\n",
       "      <td>Sleep Apnea</td>\n",
       "    </tr>\n",
       "    <tr>\n",
       "      <th>4</th>\n",
       "      <td>5</td>\n",
       "      <td>Male</td>\n",
       "      <td>28</td>\n",
       "      <td>Sales Representative</td>\n",
       "      <td>5.9</td>\n",
       "      <td>4</td>\n",
       "      <td>30</td>\n",
       "      <td>8</td>\n",
       "      <td>Obese</td>\n",
       "      <td>140/90</td>\n",
       "      <td>85</td>\n",
       "      <td>3000</td>\n",
       "      <td>Sleep Apnea</td>\n",
       "    </tr>\n",
       "    <tr>\n",
       "      <th>...</th>\n",
       "      <td>...</td>\n",
       "      <td>...</td>\n",
       "      <td>...</td>\n",
       "      <td>...</td>\n",
       "      <td>...</td>\n",
       "      <td>...</td>\n",
       "      <td>...</td>\n",
       "      <td>...</td>\n",
       "      <td>...</td>\n",
       "      <td>...</td>\n",
       "      <td>...</td>\n",
       "      <td>...</td>\n",
       "      <td>...</td>\n",
       "    </tr>\n",
       "    <tr>\n",
       "      <th>369</th>\n",
       "      <td>370</td>\n",
       "      <td>Female</td>\n",
       "      <td>59</td>\n",
       "      <td>Nurse</td>\n",
       "      <td>8.1</td>\n",
       "      <td>9</td>\n",
       "      <td>75</td>\n",
       "      <td>3</td>\n",
       "      <td>Overweight</td>\n",
       "      <td>140/95</td>\n",
       "      <td>68</td>\n",
       "      <td>7000</td>\n",
       "      <td>Sleep Apnea</td>\n",
       "    </tr>\n",
       "    <tr>\n",
       "      <th>370</th>\n",
       "      <td>371</td>\n",
       "      <td>Female</td>\n",
       "      <td>59</td>\n",
       "      <td>Nurse</td>\n",
       "      <td>8.0</td>\n",
       "      <td>9</td>\n",
       "      <td>75</td>\n",
       "      <td>3</td>\n",
       "      <td>Overweight</td>\n",
       "      <td>140/95</td>\n",
       "      <td>68</td>\n",
       "      <td>7000</td>\n",
       "      <td>Sleep Apnea</td>\n",
       "    </tr>\n",
       "    <tr>\n",
       "      <th>371</th>\n",
       "      <td>372</td>\n",
       "      <td>Female</td>\n",
       "      <td>59</td>\n",
       "      <td>Nurse</td>\n",
       "      <td>8.1</td>\n",
       "      <td>9</td>\n",
       "      <td>75</td>\n",
       "      <td>3</td>\n",
       "      <td>Overweight</td>\n",
       "      <td>140/95</td>\n",
       "      <td>68</td>\n",
       "      <td>7000</td>\n",
       "      <td>Sleep Apnea</td>\n",
       "    </tr>\n",
       "    <tr>\n",
       "      <th>372</th>\n",
       "      <td>373</td>\n",
       "      <td>Female</td>\n",
       "      <td>59</td>\n",
       "      <td>Nurse</td>\n",
       "      <td>8.1</td>\n",
       "      <td>9</td>\n",
       "      <td>75</td>\n",
       "      <td>3</td>\n",
       "      <td>Overweight</td>\n",
       "      <td>140/95</td>\n",
       "      <td>68</td>\n",
       "      <td>7000</td>\n",
       "      <td>Sleep Apnea</td>\n",
       "    </tr>\n",
       "    <tr>\n",
       "      <th>373</th>\n",
       "      <td>374</td>\n",
       "      <td>Female</td>\n",
       "      <td>59</td>\n",
       "      <td>Nurse</td>\n",
       "      <td>8.1</td>\n",
       "      <td>9</td>\n",
       "      <td>75</td>\n",
       "      <td>3</td>\n",
       "      <td>Overweight</td>\n",
       "      <td>140/95</td>\n",
       "      <td>68</td>\n",
       "      <td>7000</td>\n",
       "      <td>Sleep Apnea</td>\n",
       "    </tr>\n",
       "  </tbody>\n",
       "</table>\n",
       "<p>374 rows × 13 columns</p>\n",
       "</div>"
      ],
      "text/plain": [
       "     Person ID  Gender  Age            Occupation  Sleep Duration  \\\n",
       "0            1    Male   27     Software Engineer             6.1   \n",
       "1            2    Male   28                Doctor             6.2   \n",
       "2            3    Male   28                Doctor             6.2   \n",
       "3            4    Male   28  Sales Representative             5.9   \n",
       "4            5    Male   28  Sales Representative             5.9   \n",
       "..         ...     ...  ...                   ...             ...   \n",
       "369        370  Female   59                 Nurse             8.1   \n",
       "370        371  Female   59                 Nurse             8.0   \n",
       "371        372  Female   59                 Nurse             8.1   \n",
       "372        373  Female   59                 Nurse             8.1   \n",
       "373        374  Female   59                 Nurse             8.1   \n",
       "\n",
       "     Quality of Sleep  Physical Activity Level  Stress Level BMI Category  \\\n",
       "0                   6                       42             6   Overweight   \n",
       "1                   6                       60             8       Normal   \n",
       "2                   6                       60             8       Normal   \n",
       "3                   4                       30             8        Obese   \n",
       "4                   4                       30             8        Obese   \n",
       "..                ...                      ...           ...          ...   \n",
       "369                 9                       75             3   Overweight   \n",
       "370                 9                       75             3   Overweight   \n",
       "371                 9                       75             3   Overweight   \n",
       "372                 9                       75             3   Overweight   \n",
       "373                 9                       75             3   Overweight   \n",
       "\n",
       "    Blood Pressure  Heart Rate  Daily Steps Sleep Disorder  \n",
       "0           126/83          77         4200            NaN  \n",
       "1           125/80          75        10000            NaN  \n",
       "2           125/80          75        10000            NaN  \n",
       "3           140/90          85         3000    Sleep Apnea  \n",
       "4           140/90          85         3000    Sleep Apnea  \n",
       "..             ...         ...          ...            ...  \n",
       "369         140/95          68         7000    Sleep Apnea  \n",
       "370         140/95          68         7000    Sleep Apnea  \n",
       "371         140/95          68         7000    Sleep Apnea  \n",
       "372         140/95          68         7000    Sleep Apnea  \n",
       "373         140/95          68         7000    Sleep Apnea  \n",
       "\n",
       "[374 rows x 13 columns]"
      ]
     },
     "execution_count": 2,
     "metadata": {},
     "output_type": "execute_result"
    }
   ],
   "source": [
    "sleep_health = pd.read_csv('/kaggle/input/getting-a-good-nights-sleep/sleep_health_data.csv')\n",
    "sleep_health"
   ]
  },
  {
   "cell_type": "code",
   "execution_count": 3,
   "id": "696b6d55",
   "metadata": {
    "execution": {
     "iopub.execute_input": "2025-02-16T17:11:03.587234Z",
     "iopub.status.busy": "2025-02-16T17:11:03.586890Z",
     "iopub.status.idle": "2025-02-16T17:11:03.605530Z",
     "shell.execute_reply": "2025-02-16T17:11:03.604347Z"
    },
    "papermill": {
     "duration": 0.024324,
     "end_time": "2025-02-16T17:11:03.607041",
     "exception": false,
     "start_time": "2025-02-16T17:11:03.582717",
     "status": "completed"
    },
    "tags": []
   },
   "outputs": [
    {
     "name": "stdout",
     "output_type": "stream",
     "text": [
      "The occupation with the lowest sleep duration of 5.9 hours on average is Sales Representative\n"
     ]
    }
   ],
   "source": [
    "# group occupations\n",
    "occupation = sleep_health.groupby('Occupation')\n",
    "# mean sleep duration for each occupation\n",
    "mean_sleep_duration = occupation['Sleep Duration'].mean()\n",
    "sorted_sleep_duration = mean_sleep_duration.sort_values()\n",
    "# lowest avg sleep duration\n",
    "lowest_sleep = sorted_sleep_duration.iloc[0]\n",
    "lowest_sleep\n",
    "# lowest sleep occupation\n",
    "lowest_sleep_occ = sorted_sleep_duration.index[0]\n",
    "# occupation with the lowest avg sleep duration\n",
    "print(f'The occupation with the lowest sleep duration of {lowest_sleep} hours on average is {sorted_sleep_duration.index[0]}')"
   ]
  },
  {
   "cell_type": "code",
   "execution_count": 4,
   "id": "ee2d6be5",
   "metadata": {
    "execution": {
     "iopub.execute_input": "2025-02-16T17:11:03.615537Z",
     "iopub.status.busy": "2025-02-16T17:11:03.615154Z",
     "iopub.status.idle": "2025-02-16T17:11:03.621571Z",
     "shell.execute_reply": "2025-02-16T17:11:03.620706Z"
    },
    "papermill": {
     "duration": 0.012451,
     "end_time": "2025-02-16T17:11:03.623168",
     "exception": false,
     "start_time": "2025-02-16T17:11:03.610717",
     "status": "completed"
    },
    "tags": []
   },
   "outputs": [
    {
     "name": "stdout",
     "output_type": "stream",
     "text": [
      "The occupation with the lowest sleep quality of 4.0 is Sales Representative\n"
     ]
    }
   ],
   "source": [
    "# mean sleep quality for each occupation\n",
    "mean_sleep_quality = occupation['Quality of Sleep'].mean()\n",
    "sorted_sleep_quality = mean_sleep_quality.sort_values()\n",
    "# lowest avg sleep quality\n",
    "lowest_sleep_quality = sorted_sleep_quality.iloc[0]\n",
    "lowest_sleep_quality\n",
    "#lowest sleep quality occ\n",
    "lowest_sleep_quality_occ = sorted_sleep_quality.index[0]\n",
    "# occupation with the lowest avg sleep quality\n",
    "print(f'The occupation with the lowest sleep quality of {lowest_sleep_quality} is {sorted_sleep_quality.index[0]}')"
   ]
  },
  {
   "cell_type": "code",
   "execution_count": 5,
   "id": "59b276b6",
   "metadata": {
    "execution": {
     "iopub.execute_input": "2025-02-16T17:11:03.631887Z",
     "iopub.status.busy": "2025-02-16T17:11:03.631504Z",
     "iopub.status.idle": "2025-02-16T17:11:03.637044Z",
     "shell.execute_reply": "2025-02-16T17:11:03.636107Z"
    },
    "papermill": {
     "duration": 0.011822,
     "end_time": "2025-02-16T17:11:03.638756",
     "exception": false,
     "start_time": "2025-02-16T17:11:03.626934",
     "status": "completed"
    },
    "tags": []
   },
   "outputs": [
    {
     "name": "stdout",
     "output_type": "stream",
     "text": [
      "The occupation with the lowest sleep duration is the same with the lowest sleep quality.\n"
     ]
    }
   ],
   "source": [
    "# low sleep duration -> low sleep quality\n",
    "if sorted_sleep_duration.index[0] == sorted_sleep_quality.index[0]:\n",
    "    same_occ = True\n",
    "    print(f'The occupation with the lowest sleep duration is the same with the lowest sleep quality.')\n",
    "else:\n",
    "    same_occ = False\n",
    "    print(f'Lowest sleep duration and lowest sleep quality do not meet in the same occupation.')"
   ]
  },
  {
   "cell_type": "code",
   "execution_count": 6,
   "id": "a7f9c2be",
   "metadata": {
    "execution": {
     "iopub.execute_input": "2025-02-16T17:11:03.647530Z",
     "iopub.status.busy": "2025-02-16T17:11:03.647203Z",
     "iopub.status.idle": "2025-02-16T17:11:03.662283Z",
     "shell.execute_reply": "2025-02-16T17:11:03.661216Z"
    },
    "papermill": {
     "duration": 0.021154,
     "end_time": "2025-02-16T17:11:03.663827",
     "exception": false,
     "start_time": "2025-02-16T17:11:03.642673",
     "status": "completed"
    },
    "tags": []
   },
   "outputs": [
    {
     "data": {
      "text/html": [
       "<div>\n",
       "<style scoped>\n",
       "    .dataframe tbody tr th:only-of-type {\n",
       "        vertical-align: middle;\n",
       "    }\n",
       "\n",
       "    .dataframe tbody tr th {\n",
       "        vertical-align: top;\n",
       "    }\n",
       "\n",
       "    .dataframe thead th {\n",
       "        text-align: right;\n",
       "    }\n",
       "</style>\n",
       "<table border=\"1\" class=\"dataframe\">\n",
       "  <thead>\n",
       "    <tr style=\"text-align: right;\">\n",
       "      <th></th>\n",
       "      <th>Sleep Disorder</th>\n",
       "      <th>BMI Category</th>\n",
       "      <th>Insomnia BMI Count</th>\n",
       "    </tr>\n",
       "  </thead>\n",
       "  <tbody>\n",
       "    <tr>\n",
       "      <th>0</th>\n",
       "      <td>Insomnia</td>\n",
       "      <td>Normal</td>\n",
       "      <td>9</td>\n",
       "    </tr>\n",
       "    <tr>\n",
       "      <th>1</th>\n",
       "      <td>Insomnia</td>\n",
       "      <td>Obese</td>\n",
       "      <td>4</td>\n",
       "    </tr>\n",
       "    <tr>\n",
       "      <th>2</th>\n",
       "      <td>Insomnia</td>\n",
       "      <td>Overweight</td>\n",
       "      <td>64</td>\n",
       "    </tr>\n",
       "  </tbody>\n",
       "</table>\n",
       "</div>"
      ],
      "text/plain": [
       "  Sleep Disorder BMI Category  Insomnia BMI Count\n",
       "0       Insomnia       Normal                   9\n",
       "1       Insomnia        Obese                   4\n",
       "2       Insomnia   Overweight                  64"
      ]
     },
     "execution_count": 6,
     "metadata": {},
     "output_type": "execute_result"
    }
   ],
   "source": [
    "# ratio of insomniacs in each bmi category\n",
    "insomniacs = sleep_health.loc[(sleep_health['Sleep Disorder'] == 'Insomnia')]\n",
    "bmi_insomnia = insomniacs.groupby(['Sleep Disorder', 'BMI Category']).size().reset_index(name='Insomnia BMI Count')\n",
    "bmi_insomnia"
   ]
  },
  {
   "cell_type": "code",
   "execution_count": 7,
   "id": "592793f8",
   "metadata": {
    "execution": {
     "iopub.execute_input": "2025-02-16T17:11:03.672634Z",
     "iopub.status.busy": "2025-02-16T17:11:03.672343Z",
     "iopub.status.idle": "2025-02-16T17:11:03.682115Z",
     "shell.execute_reply": "2025-02-16T17:11:03.681124Z"
    },
    "papermill": {
     "duration": 0.015968,
     "end_time": "2025-02-16T17:11:03.683776",
     "exception": false,
     "start_time": "2025-02-16T17:11:03.667808",
     "status": "completed"
    },
    "tags": []
   },
   "outputs": [
    {
     "data": {
      "text/plain": [
       "{'Normal': 0.04, 'Overweight': 0.43, 'Obese': 0.4}"
      ]
     },
     "execution_count": 7,
     "metadata": {},
     "output_type": "execute_result"
    }
   ],
   "source": [
    "# total normal\n",
    "total_normal = sleep_health.loc[sleep_health['BMI Category'] == 'Normal'].shape[0]\n",
    "total_normal\n",
    "# total obese\n",
    "total_obese = sleep_health.loc[sleep_health['BMI Category'] == 'Obese'].shape[0]\n",
    "total_obese\n",
    "# total overweight\n",
    "total_overweight = sleep_health.loc[sleep_health['BMI Category'] == 'Overweight'].shape[0]\n",
    "total_overweight\n",
    "# ratio of normal insomniacs\n",
    "bmi_insomnia_ratios = {\n",
    "    \"Normal\": round(bmi_insomnia.iloc[0]['Insomnia BMI Count'] / total_normal, 2),\n",
    "    \"Overweight\": round(bmi_insomnia.iloc[2]['Insomnia BMI Count'] / total_overweight, 2),\n",
    "    \"Obese\": round(bmi_insomnia.iloc[1]['Insomnia BMI Count'] / total_obese, 2)\n",
    "}\n",
    "bmi_insomnia_ratios"
   ]
  },
  {
   "cell_type": "code",
   "execution_count": 8,
   "id": "261bebc3",
   "metadata": {
    "execution": {
     "iopub.execute_input": "2025-02-16T17:11:03.692822Z",
     "iopub.status.busy": "2025-02-16T17:11:03.692525Z",
     "iopub.status.idle": "2025-02-16T17:11:04.428478Z",
     "shell.execute_reply": "2025-02-16T17:11:04.427191Z"
    },
    "papermill": {
     "duration": 0.742468,
     "end_time": "2025-02-16T17:11:04.430382",
     "exception": false,
     "start_time": "2025-02-16T17:11:03.687914",
     "status": "completed"
    },
    "tags": []
   },
   "outputs": [
    {
     "data": {
      "image/png": "[encoded data removed]",
      "text/plain": [
       "<Figure size 640x480 with 1 Axes>"
      ]
     },
     "metadata": {},
     "output_type": "display_data"
    }
   ],
   "source": [
    "# visualizations\n",
    "import matplotlib.pyplot as plt\n",
    "# axis\n",
    "quality_of_sleep = sleep_health['Quality of Sleep']\n",
    "stress_level = sleep_health['Stress Level']\n",
    "# correlation between stress level and quality of sleep\n",
    "plt.bar(quality_of_sleep, stress_level, color=\"pink\")\n",
    "plt.title('Effects of Stress on Sleep Quality')\n",
    "plt.xlabel('Quality of Sleep')\n",
    "plt.ylabel('Stress Level')\n",
    "plt.show()"
   ]
  },
  {
   "cell_type": "code",
   "execution_count": 9,
   "id": "3ddc06b5",
   "metadata": {
    "execution": {
     "iopub.execute_input": "2025-02-16T17:11:04.440948Z",
     "iopub.status.busy": "2025-02-16T17:11:04.440626Z",
     "iopub.status.idle": "2025-02-16T17:11:04.652646Z",
     "shell.execute_reply": "2025-02-16T17:11:04.651370Z"
    },
    "papermill": {
     "duration": 0.21926,
     "end_time": "2025-02-16T17:11:04.654392",
     "exception": false,
     "start_time": "2025-02-16T17:11:04.435132",
     "status": "completed"
    },
    "tags": []
   },
   "outputs": [
    {
     "data": {
      "image/png": "[encoded data removed]",
      "text/plain": [
       "<Figure size 640x480 with 1 Axes>"
      ]
     },
     "metadata": {},
     "output_type": "display_data"
    }
   ],
   "source": [
    "import numpy as np\n",
    "import matplotlib.pyplot as plt\n",
    "\n",
    "# data on sleep duration, quality and stress level of each gender\n",
    "grouped_gender = sleep_health.groupby('Gender')[['Quality of Sleep', 'Sleep Duration', 'Stress Level']].mean()\n",
    "\n",
    "x_labels = grouped_gender.index # gets female and male\n",
    "x = np.arange(len(x_labels)) # [0,1] creates numeric x positions\n",
    "\n",
    "# create bar plot\n",
    "fig, ax = plt.subplots()\n",
    "\n",
    "ax.bar(x-0.2, grouped_gender['Quality of Sleep'], width = 0.2, label=\"Sleep Quality\", color=\"pink\")\n",
    "ax.bar(x, grouped_gender['Sleep Duration'], width = 0.2, label='Sleep Duration', color=\"lightcyan\")\n",
    "ax.bar(x+0.2, grouped_gender['Stress Level'], width = 0.2, label='Stress Level', color='red')\n",
    "\n",
    "ax.set_title('Comparison of Sleep Duration and Quality, affected by Stress Levels, Between Genders')\n",
    "ax.set_xticks(x) \n",
    "ax.set_xticklabels(x_labels) # change back to female and male\n",
    "ax.set_ylabel('Value(1-9)')\n",
    "ax.set_xlabel('Gender')\n",
    "ax.set_ylim(1,9)\n",
    "ax.legend()\n",
    "\n",
    "plt.show()"
   ]
  },
  {
   "cell_type": "code",
   "execution_count": 10,
   "id": "03a16b83",
   "metadata": {
    "execution": {
     "iopub.execute_input": "2025-02-16T17:11:04.666289Z",
     "iopub.status.busy": "2025-02-16T17:11:04.665918Z",
     "iopub.status.idle": "2025-02-16T17:11:05.061808Z",
     "shell.execute_reply": "2025-02-16T17:11:05.060576Z"
    },
    "papermill": {
     "duration": 0.404203,
     "end_time": "2025-02-16T17:11:05.063961",
     "exception": false,
     "start_time": "2025-02-16T17:11:04.659758",
     "status": "completed"
    },
    "tags": []
   },
   "outputs": [
    {
     "data": {
      "image/png": "[encoded data removed]",
      "text/plain": [
       "<Figure size 1800x500 with 1 Axes>"
      ]
     },
     "metadata": {},
     "output_type": "display_data"
    }
   ],
   "source": [
    "# data on sleep duration, quality and stress level of each gender\n",
    "grouped_occ = sleep_health.groupby('Occupation')[['Quality of Sleep','Sleep Duration','Stress Level']].mean()\n",
    "\n",
    "x_labels_occ = grouped_occ.index \n",
    "x_occ = np.arange(len(x_labels_occ)) \n",
    "\n",
    "# create bar plot\n",
    "fig1, ax1 = plt.subplots(figsize=(18,5))\n",
    "\n",
    "ax1.bar(x_occ-0.2, grouped_occ['Quality of Sleep'], width = 0.2, label=\"Sleep Quality\", color=\"pink\")\n",
    "ax1.bar(x_occ, grouped_occ['Sleep Duration'], width = 0.2, label='Sleep Duration', color=\"lightcyan\")\n",
    "ax1.bar(x_occ+0.2, grouped_occ['Stress Level'], width = 0.2, label='Stress Level', color='red')\n",
    "\n",
    "ax1.set_title('Comparison of Sleep Duration and Quality, affected by Stress Levels, Across Occupations')\n",
    "ax1.set_xticks(x_occ) \n",
    "ax1.set_xticklabels(x_labels_occ) \n",
    "ax1.set_ylabel('Value(1-9)')\n",
    "ax1.set_xlabel('Occupation')\n",
    "ax1.set_ylim(1,9)\n",
    "ax1.legend()\n",
    "plt.xlim()\n",
    "\n",
    "plt.show()"
   ]
  },
  {
   "cell_type": "code",
   "execution_count": null,
   "id": "02a6472b",
   "metadata": {
    "papermill": {
     "duration": 0.005942,
     "end_time": "2025-02-16T17:11:05.076432",
     "exception": false,
     "start_time": "2025-02-16T17:11:05.070490",
     "status": "completed"
    },
    "tags": []
   },
   "outputs": [],
   "source": []
  }
 ],
 "metadata": {
  "kaggle": {
   "accelerator": "none",
   "dataSources": [
    {
     "datasetId": 5778648,
     "sourceId": 9496312,
     "sourceType": "datasetVersion"
    }
   ],
   "dockerImageVersionId": 30886,
   "isGpuEnabled": false,
   "isInternetEnabled": true,
   "language": "python",
   "sourceType": "notebook"
  },
  "kernelspec": {
   "display_name": "Python 3",
   "language": "python",
   "name": "python3"
  },
  "language_info": {
   "codemirror_mode": {
    "name": "ipython",
    "version": 3
   },
   "file_extension": ".py",
   "mimetype": "text/x-python",
   "name": "python",
   "nbconvert_exporter": "python",
   "pygments_lexer": "ipython3",
   "version": "3.10.12"
  },
  "papermill": {
   "default_parameters": {},
   "duration": 5.754051,
   "end_time": "2025-02-16T17:11:05.703304",
   "environment_variables": {},
   "exception": null,
   "input_path": "__notebook__.ipynb",
   "output_path": "__notebook__.ipynb",
   "parameters": {},
   "start_time": "2025-02-16T17:10:59.949253",
   "version": "2.6.0"
  }
 },
 "nbformat": 4,
 "nbformat_minor": 5
}
