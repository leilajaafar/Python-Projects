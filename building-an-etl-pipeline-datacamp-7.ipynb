{
 "cells": [
  {
   "cell_type": "code",
   "execution_count": 1,
   "id": "bee72a6b",
   "metadata": {
    "_cell_guid": "b1076dfc-b9ad-4769-8c92-a6c4dae69d19",
    "_uuid": "8f2839f25d086af736a60e9eeb907d3b93b6e0e5",
    "execution": {
     "iopub.execute_input": "2025-02-27T15:02:30.432651Z",
     "iopub.status.busy": "2025-02-27T15:02:30.432305Z",
     "iopub.status.idle": "2025-02-27T15:02:31.467546Z",
     "shell.execute_reply": "2025-02-27T15:02:31.465913Z"
    },
    "papermill": {
     "duration": 1.042235,
     "end_time": "2025-02-27T15:02:31.469854",
     "exception": false,
     "start_time": "2025-02-27T15:02:30.427619",
     "status": "completed"
    },
    "tags": []
   },
   "outputs": [
    {
     "name": "stdout",
     "output_type": "stream",
     "text": [
      "/kaggle/input/electricity-capability-nested/electricity_capability_nested.json\n",
      "/kaggle/input/electricity-sales/electricity_sales.csv\n"
     ]
    }
   ],
   "source": [
    "# This Python 3 environment comes with many helpful analytics libraries installed\n",
    "# It is defined by the kaggle/python Docker image: https://github.com/kaggle/docker-python\n",
    "# For example, here's several helpful packages to load\n",
    "\n",
    "import numpy as np # linear algebra\n",
    "import pandas as pd # data processing, CSV file I/O (e.g. pd.read_csv)\n",
    "\n",
    "# Input data files are available in the read-only \"../input/\" directory\n",
    "# For example, running this (by clicking run or pressing Shift+Enter) will list all files under the input directory\n",
    "\n",
    "import os\n",
    "for dirname, _, filenames in os.walk('/kaggle/input'):\n",
    "    for filename in filenames:\n",
    "        print(os.path.join(dirname, filename))\n",
    "\n",
    "# You can write up to 20GB to the current directory (/kaggle/working/) that gets preserved as output when you create a version using \"Save & Run All\" \n",
    "# You can also write temporary files to /kaggle/temp/, but they won't be saved outside of the current session"
   ]
  },
  {
   "cell_type": "code",
   "execution_count": 2,
   "id": "4c3cd5dc",
   "metadata": {
    "execution": {
     "iopub.execute_input": "2025-02-27T15:02:31.477442Z",
     "iopub.status.busy": "2025-02-27T15:02:31.476708Z",
     "iopub.status.idle": "2025-02-27T15:02:31.481630Z",
     "shell.execute_reply": "2025-02-27T15:02:31.480483Z"
    },
    "papermill": {
     "duration": 0.010811,
     "end_time": "2025-02-27T15:02:31.483828",
     "exception": false,
     "start_time": "2025-02-27T15:02:31.473017",
     "status": "completed"
    },
    "tags": []
   },
   "outputs": [],
   "source": [
    "import json"
   ]
  },
  {
   "cell_type": "code",
   "execution_count": 3,
   "id": "03f7749e",
   "metadata": {
    "execution": {
     "iopub.execute_input": "2025-02-27T15:02:31.490795Z",
     "iopub.status.busy": "2025-02-27T15:02:31.490418Z",
     "iopub.status.idle": "2025-02-27T15:02:31.495628Z",
     "shell.execute_reply": "2025-02-27T15:02:31.494410Z"
    },
    "papermill": {
     "duration": 0.010799,
     "end_time": "2025-02-27T15:02:31.497514",
     "exception": false,
     "start_time": "2025-02-27T15:02:31.486715",
     "status": "completed"
    },
    "tags": []
   },
   "outputs": [],
   "source": [
    "def extract_tabular_data(file_path: str):\n",
    "    \"\"\"Extract data from a tabular file_format, with pandas.\"\"\"\n",
    "    if \"csv\" in file_path:\n",
    "        return pd.read_csv(file_path)\n",
    "    elif \"parquet\" in file_path:\n",
    "        return pd.read_parquet(file_path)\n",
    "    else:\n",
    "        raise Exception('Warning: Invalid file extension. Please try with .csv or .parquet!')"
   ]
  },
  {
   "cell_type": "code",
   "execution_count": 4,
   "id": "bedb6c87",
   "metadata": {
    "execution": {
     "iopub.execute_input": "2025-02-27T15:02:31.504913Z",
     "iopub.status.busy": "2025-02-27T15:02:31.504530Z",
     "iopub.status.idle": "2025-02-27T15:02:31.509847Z",
     "shell.execute_reply": "2025-02-27T15:02:31.508458Z"
    },
    "papermill": {
     "duration": 0.011335,
     "end_time": "2025-02-27T15:02:31.511680",
     "exception": false,
     "start_time": "2025-02-27T15:02:31.500345",
     "status": "completed"
    },
    "tags": []
   },
   "outputs": [],
   "source": [
    "def extract_json_data(file_path):\n",
    "    \"\"\"Extract and flatten data from a JSON file.\"\"\"\n",
    "    if \"json\" in file_path:\n",
    "        with open(file_path, \"r\") as json_file:\n",
    "            raw_data = json.load(json_file)\n",
    "        return pd.json_normalize(raw_data)\n",
    "    else:\n",
    "        print('enter a json file please')"
   ]
  },
  {
   "cell_type": "code",
   "execution_count": 5,
   "id": "ed18ce25",
   "metadata": {
    "execution": {
     "iopub.execute_input": "2025-02-27T15:02:31.518664Z",
     "iopub.status.busy": "2025-02-27T15:02:31.518314Z",
     "iopub.status.idle": "2025-02-27T15:02:31.525173Z",
     "shell.execute_reply": "2025-02-27T15:02:31.523685Z"
    },
    "papermill": {
     "duration": 0.012755,
     "end_time": "2025-02-27T15:02:31.527332",
     "exception": false,
     "start_time": "2025-02-27T15:02:31.514577",
     "status": "completed"
    },
    "tags": []
   },
   "outputs": [],
   "source": [
    "def transform_electricity_sales_data(raw_data: pd.DataFrame):\n",
    "    \"\"\"\n",
    "    Transform electricity sales to find the total amount of electricity sold\n",
    "    in the residential and transportation sectors. \"\"\"\n",
    "    # drop NA records in price\n",
    "    raw_data.dropna(subset=[\"price\"], inplace=True)\n",
    "    # keep records with sectorName of resid or transp\n",
    "    cleaned_df = raw_data.loc[raw_data[\"sectorName\"].isin([\"residential\", \"transportation\"]), :]\n",
    "    # month column\n",
    "    cleaned_df['year'] = cleaned_df['period'].str[0:4]\n",
    "    # year column\n",
    "    cleaned_df['month'] = cleaned_df['period'].str[5:]\n",
    "    # transformed df\n",
    "    cleaned_df = cleaned_df.loc[:, [\"year\", \"month\", \"stateid\", \"price\", \"price-units\"]]\n",
    "    return cleaned_df"
   ]
  },
  {
   "cell_type": "code",
   "execution_count": 6,
   "id": "f1236370",
   "metadata": {
    "execution": {
     "iopub.execute_input": "2025-02-27T15:02:31.534590Z",
     "iopub.status.busy": "2025-02-27T15:02:31.534206Z",
     "iopub.status.idle": "2025-02-27T15:02:31.539541Z",
     "shell.execute_reply": "2025-02-27T15:02:31.538096Z"
    },
    "papermill": {
     "duration": 0.011041,
     "end_time": "2025-02-27T15:02:31.541408",
     "exception": false,
     "start_time": "2025-02-27T15:02:31.530367",
     "status": "completed"
    },
    "tags": []
   },
   "outputs": [],
   "source": [
    "def load(dataframe: pd.DataFrame, file_path: str):\n",
    "    \"\"\"Load a DataFrame to a file in either CSV or Parquet format.\"\"\"\n",
    "    if file_path.endswith(\".csv\"):\n",
    "        dataframe.to_csv(file_path)\n",
    "    elif file_path.endswith(\".parquet\"):\n",
    "        dataframe.to_parquet(file_path)\n",
    "    else:\n",
    "        raise Exception(f\"Warning: {filepath} is not a valid file type. Please try again!\")"
   ]
  },
  {
   "cell_type": "code",
   "execution_count": 7,
   "id": "0daffb15",
   "metadata": {
    "execution": {
     "iopub.execute_input": "2025-02-27T15:02:31.548194Z",
     "iopub.status.busy": "2025-02-27T15:02:31.547767Z",
     "iopub.status.idle": "2025-02-27T15:02:31.737660Z",
     "shell.execute_reply": "2025-02-27T15:02:31.736579Z"
    },
    "papermill": {
     "duration": 0.195137,
     "end_time": "2025-02-27T15:02:31.739423",
     "exception": false,
     "start_time": "2025-02-27T15:02:31.544286",
     "status": "completed"
    },
    "tags": []
   },
   "outputs": [
    {
     "name": "stderr",
     "output_type": "stream",
     "text": [
      "<ipython-input-5-d8014d6e0da0>:10: SettingWithCopyWarning: \n",
      "A value is trying to be set on a copy of a slice from a DataFrame.\n",
      "Try using .loc[row_indexer,col_indexer] = value instead\n",
      "\n",
      "See the caveats in the documentation: https://pandas.pydata.org/pandas-docs/stable/user_guide/indexing.html#returning-a-view-versus-a-copy\n",
      "  cleaned_df['year'] = cleaned_df['period'].str[0:4]\n",
      "<ipython-input-5-d8014d6e0da0>:12: SettingWithCopyWarning: \n",
      "A value is trying to be set on a copy of a slice from a DataFrame.\n",
      "Try using .loc[row_indexer,col_indexer] = value instead\n",
      "\n",
      "See the caveats in the documentation: https://pandas.pydata.org/pandas-docs/stable/user_guide/indexing.html#returning-a-view-versus-a-copy\n",
      "  cleaned_df['month'] = cleaned_df['period'].str[5:]\n"
     ]
    }
   ],
   "source": [
    "raw_electricity_capability_df = extract_json_data(\"/kaggle/input/electricity-capability-nested/electricity_capability_nested.json\")\n",
    "raw_electricity_sales_df = extract_tabular_data(\"/kaggle/input/electricity-sales/electricity_sales.csv\")\n",
    "\n",
    "cleaned_electricity_sales_df = transform_electricity_sales_data(raw_electricity_sales_df)\n",
    "\n",
    "load(raw_electricity_capability_df, \"loaded_electricity_capability.parquet\")\n",
    "load(cleaned_electricity_sales_df, \"loaded_electricity_sales.csv\")"
   ]
  },
  {
   "cell_type": "code",
   "execution_count": null,
   "id": "afcc83ca",
   "metadata": {
    "papermill": {
     "duration": 0.002511,
     "end_time": "2025-02-27T15:02:31.744984",
     "exception": false,
     "start_time": "2025-02-27T15:02:31.742473",
     "status": "completed"
    },
    "tags": []
   },
   "outputs": [],
   "source": []
  }
 ],
 "metadata": {
  "kaggle": {
   "accelerator": "none",
   "dataSources": [
    {
     "datasetId": 6754659,
     "sourceId": 10871928,
     "sourceType": "datasetVersion"
    },
    {
     "datasetId": 6754663,
     "sourceId": 10871934,
     "sourceType": "datasetVersion"
    }
   ],
   "dockerImageVersionId": 30918,
   "isGpuEnabled": false,
   "isInternetEnabled": true,
   "language": "python",
   "sourceType": "notebook"
  },
  "kernelspec": {
   "display_name": "Python 3",
   "language": "python",
   "name": "python3"
  },
  "language_info": {
   "codemirror_mode": {
    "name": "ipython",
    "version": 3
   },
   "file_extension": ".py",
   "mimetype": "text/x-python",
   "name": "python",
   "nbconvert_exporter": "python",
   "pygments_lexer": "ipython3",
   "version": "3.10.12"
  },
  "papermill": {
   "default_parameters": {},
   "duration": 4.891012,
   "end_time": "2025-02-27T15:02:32.369446",
   "environment_variables": {},
   "exception": null,
   "input_path": "__notebook__.ipynb",
   "output_path": "__notebook__.ipynb",
   "parameters": {},
   "start_time": "2025-02-27T15:02:27.478434",
   "version": "2.6.0"
  }
 },
 "nbformat": 4,
 "nbformat_minor": 5
}
